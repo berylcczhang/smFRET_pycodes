{
 "cells": [
  {
   "cell_type": "code",
   "execution_count": null,
   "id": "53dee10b",
   "metadata": {},
   "outputs": [],
   "source": [
    "import numpy as np\n",
    "import smFRET_functions as smfret\n",
    "import smFRETdata_functions as smfretd"
   ]
  },
  {
   "cell_type": "markdown",
   "id": "a1f77ed5",
   "metadata": {},
   "source": [
    "##### Pre-Processing the data"
   ]
  },
  {
   "cell_type": "code",
   "execution_count": null,
   "id": "a29a3c75",
   "metadata": {},
   "outputs": [],
   "source": [
    "# find offsets with beads file: enter beads file's PATH, w.r.t current directory\n",
    "smfret.find_offset('Toxin/210616/beads_210616.tif')"
   ]
  },
  {
   "cell_type": "code",
   "execution_count": null,
   "id": "df40e86e",
   "metadata": {},
   "outputs": [],
   "source": [
    "# read in the data file: enter data file's PATH, w.r.t current directory\n",
    "data = smfret.read_tiff('Toxin/210616/TcDA_SC_lp5_pH6_KpO4_210616/TcDA_SC_lp5_pH6_KpO4_210616_8.tif')\n",
    "# apply bg. subtraction: enter frame sequece first red, green, and raw data from last step\n",
    "data = smfret.bg_subtraction(10, 500, data)\n",
    "# extract molecules from first red frames: enter neighborhood_size, threshold and minimun distance, also data from bg_subtraction\n",
    "final_coords = smfret.locate_molecules(5,100,5,data)[1]"
   ]
  },
  {
   "cell_type": "code",
   "execution_count": null,
   "id": "33817c0a",
   "metadata": {
    "scrolled": true
   },
   "outputs": [],
   "source": [
    "# get good molecules by the coeff. threoshold and manual selection: enter x & y offsets 'final_coords' and data from bg_subtraction\n",
    "%matplotlib inline\n",
    "traces_s = smfret.get_goodones(0, 0, final_coords, data)"
   ]
  },
  {
   "cell_type": "code",
   "execution_count": null,
   "id": "32b89874",
   "metadata": {},
   "outputs": [],
   "source": [
    "# save selected traces to a specific path\n",
    "np.savetxt('Toxin/210616/TcDA_SC_lp5_pH6_KpO4_210616/TcdASC_ph6lp5_0616_8_good.dat', traces_s, fmt='%8.1f')"
   ]
  },
  {
   "cell_type": "code",
   "execution_count": null,
   "id": "b5a8acc7",
   "metadata": {},
   "outputs": [],
   "source": [
    "traces_s.shape"
   ]
  },
  {
   "cell_type": "markdown",
   "id": "42326ae3",
   "metadata": {},
   "source": [
    "##### Pruning Traces (still needs to write in funcitons)"
   ]
  },
  {
   "cell_type": "code",
   "execution_count": null,
   "id": "e73c8930",
   "metadata": {},
   "outputs": [],
   "source": [
    "# stack all the good.dat files data: enter the PATH where you saved the good.dat files, w.r.t current directory\n",
    "stacked = smfretd.stacking('Toxin/ph6lp5')\n",
    "# stacked = np.loadtxt('Toxin/ph7lp5/stacked_data.dat')"
   ]
  },
  {
   "cell_type": "code",
   "execution_count": null,
   "id": "8e1415f3",
   "metadata": {},
   "outputs": [],
   "source": [
    "stacked.shape"
   ]
  },
  {
   "cell_type": "code",
   "execution_count": null,
   "id": "d95ad27f",
   "metadata": {},
   "outputs": [],
   "source": [
    "%matplotlib qt\n",
    "pw_fret_all, traces_p = smfretd.pruning(stacked)"
   ]
  },
  {
   "cell_type": "code",
   "execution_count": null,
   "id": "316accbc",
   "metadata": {},
   "outputs": [],
   "source": [
    "# output .dat that is cmpatible with ebFRET for future analysis\n",
    "np.savetxt('Toxin/ph6lp5/pwE_all.dat', pw_fret_all, fmt='%7.5f')\n",
    "np.savetxt('Toxin/ph6lp5/pruned_all.dat', traces_p, fmt='%8.1f')"
   ]
  },
  {
   "cell_type": "code",
   "execution_count": null,
   "id": "5d0a895e",
   "metadata": {},
   "outputs": [],
   "source": [
    "# stacked = np.loadtxt('Toxin/ph6lp5/stacked_data.dat')\n",
    "# pwE = np.loadtxt('Toxin/ph6lp5/pwE_all.dat')\n",
    "# trace = np.loadtxt('Toxin/ph6lp5/pruned_all.dat')\n",
    "# stacked.shape, pwE.shape, trace.shape"
   ]
  },
  {
   "cell_type": "code",
   "execution_count": null,
   "id": "facea059",
   "metadata": {},
   "outputs": [],
   "source": [
    "# plot histogram for all point-wise FRET efficiency: enter titlename\n",
    "# pw_fret_all = np.loadtxt('Toxin/ph66lp5/pwE_all.dat')\n",
    "%matplotlib qt\n",
    "smfretd.plot_hist(pwE, 'TcdA PH6 lp5')"
   ]
  },
  {
   "cell_type": "code",
   "execution_count": null,
   "id": "9817cd46",
   "metadata": {},
   "outputs": [],
   "source": []
  }
 ],
 "metadata": {
  "kernelspec": {
   "display_name": "Python 3",
   "language": "python",
   "name": "python3"
  },
  "language_info": {
   "codemirror_mode": {
    "name": "ipython",
    "version": 3
   },
   "file_extension": ".py",
   "mimetype": "text/x-python",
   "name": "python",
   "nbconvert_exporter": "python",
   "pygments_lexer": "ipython3",
   "version": "3.8.8"
  }
 },
 "nbformat": 4,
 "nbformat_minor": 5
}
