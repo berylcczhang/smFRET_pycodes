{
 "cells": [
  {
   "cell_type": "code",
   "execution_count": null,
   "id": "exclusive-contemporary",
   "metadata": {},
   "outputs": [],
   "source": [
    "#input data file path\n",
    "path = '...'\n",
    "#input offsets that output from find_offsets\n",
    "offsetx = -7\n",
    "offsety = 3\n",
    "#input frame squence\n",
    "firstred = 10\n",
    "green = 500\n",
    "#other parameters\n",
    "neighborhood_size = 5 #find local maxima within this range of radius\n",
    "threshold = 200 #intensity threshold\n",
    "edgecut = 9 #exlude pixels this far away from the edge in each channel\n",
    "check_green = 10 #how many green frames used to find matching in D/A channels\n",
    "min_distance = 5 #minimum distance for molecules considered as separate ones, i.e. not aggregating"
   ]
  },
  {
   "cell_type": "code",
   "execution_count": 14,
   "id": "signed-patient",
   "metadata": {},
   "outputs": [],
   "source": [
    "from PIL import Image\n",
    "import numpy as np\n",
    "import scipy\n",
    "import scipy.ndimage as ndimage\n",
    "import scipy.ndimage.filters as filters\n",
    "import matplotlib.pyplot as plt"
   ]
  },
  {
   "cell_type": "code",
   "execution_count": 15,
   "id": "settled-plasma",
   "metadata": {},
   "outputs": [],
   "source": [
    "def read_tiff(path):\n",
    "    img = Image.open(path)\n",
    "    images = []\n",
    "    for i in range(img.n_frames):\n",
    "        img.seek(i)\n",
    "        images.append(np.array(img))\n",
    "        data = np.array(images)\n",
    "    return data"
   ]
  },
  {
   "cell_type": "code",
   "execution_count": 16,
   "id": "biblical-cooling",
   "metadata": {},
   "outputs": [],
   "source": [
    "data = read_tiff('PSD78/encapPSD78lp104.tif')"
   ]
  },
  {
   "cell_type": "code",
   "execution_count": 17,
   "id": "conceptual-flower",
   "metadata": {},
   "outputs": [],
   "source": [
    "#define molecule extraction function for data file\n",
    "def locate_molecules(offsetx, offsety, firstred, green, neighborhood_size, threshold, edgecut, check_green, min_distance):   \n",
    "    #getting molecule positions map frame by frame\n",
    "    maxima = []\n",
    "    maximamap = np.zeros((560,512,512)) #local brightest pixel map for each frames\n",
    "    for i in range(data.shape[0]):\n",
    "        data_max = filters.maximum_filter(data[i,:,:], neighborhood_size) #local maximum filter\n",
    "        maxima = (data[i,:,:] == data_max) #extract local brightest pixels w/ True to be the local brightest pixel\n",
    "        data_min = filters.minimum_filter(data[i,:,:], neighborhood_size) #local minimum filter\n",
    "        diff = ((data_max - data_min) > threshold) #extract pixels w/ intensity above threshold\n",
    "        maxima[diff == 0] = 0\n",
    "        maximamap[i,:,:] = maxima\n",
    "    first_acceptormap = maximamap[0:firstred,:,256:512]\n",
    "    fret_donormap = maximamap[firstred:green+firstred,:,0:256]\n",
    "    fret_acceptormap = maximamap[firstred:green+firstred,:,256:512] #split D/A sides to make D/A map \n",
    "    \n",
    "    #cut the edge by \"edgecut\" pixels and match D/A channel\n",
    "    fret_molecules = np.zeros((check_green, 512, 256)) \n",
    "    for i in range(fret_molecules.shape[0]): #based on the A channel to match molecules\n",
    "        for j in range(fret_molecules.shape[1]-2*edgecut):\n",
    "            for k in range(fret_molecules.shape[2]-2*edgecut):\n",
    "                if (fret_acceptormap[i,j+edgecut,k+edgecut] == 1) and \\\n",
    "                (fret_donormap[i,j+edgecut+offsety,k+edgecut+offsetx] == fret_acceptormap[i,j+edgecut,k+edgecut]):\n",
    "                    fret_molecules[i,j+edgecut,k+edgecut] = 1 #apply the offsets that D is from A\n",
    "    fret_molecules_map = (np.mean(fret_molecules, axis=0)!=0) #with value not equal to zero means at least match in one frame, cords are in A channel \n",
    "    molecule_cords = np.argwhere(fret_molecules_map == 1) #get final match molecules' cords in A channel\n",
    "    #exclude aggregations\n",
    "    y_cord=molecule_cords[:,0] \n",
    "    x_cord=molecule_cords[:,1] \n",
    "    xx=np.tile(x_cord,(len(x_cord),1)) #duplicate x cords by molecule number of rows\n",
    "    yy=np.tile(y_cord,(len(y_cord),1)) #duplicate y cords by molecule number of rows\n",
    "    xx_t=np.transpose(xx) #duplicate x cords by the molecule number of columns\n",
    "    yy_t=np.transpose(yy) #duplicate y cords by the molecule number of columns\n",
    "    distance=(yy-yy_t)**2+(xx-xx_t)**2 #distance^2 array, symmetric, dignal elements are 0\n",
    "    overlap=np.argwhere((distance<min_distance**2) & (distance>0)).flatten() #compare with min_distance^2, smaller means aggregation; get aggregation column/row indices \n",
    "    overlap_n=np.array(list(set(overlap))) #finalize the aggregation molecules column/row indices(numbers)\n",
    "    final_cords=np.delete(molecule_cords,overlap_n,0) #delete aggregation molecules \n",
    "    \n",
    "    return [print('found this many molecules:' + str(final_cords.shape[0])), final_cords]\n",
    "    "
   ]
  },
  {
   "cell_type": "code",
   "execution_count": 22,
   "id": "eleven-arrangement",
   "metadata": {},
   "outputs": [
    {
     "name": "stdout",
     "output_type": "stream",
     "text": [
      "found this many molecules:248\n"
     ]
    }
   ],
   "source": [
    "final_cords=locate_molecules(-7,3,10,500,3,200,9,10,5)[1]"
   ]
  },
  {
   "cell_type": "code",
   "execution_count": 19,
   "id": "employed-argument",
   "metadata": {},
   "outputs": [
    {
     "data": {
      "text/plain": [
       "(190, 2)"
      ]
     },
     "execution_count": 19,
     "metadata": {},
     "output_type": "execute_result"
    }
   ],
   "source": [
    "final_cords.shape"
   ]
  },
  {
   "cell_type": "markdown",
   "id": "devoted-purpose",
   "metadata": {},
   "source": [
    "# Faster Way!"
   ]
  },
  {
   "cell_type": "code",
   "execution_count": 1,
   "id": "animated-genesis",
   "metadata": {},
   "outputs": [],
   "source": [
    "#define molecule extraction function for data file\n",
    "def locate_molecules(offsetx, offsety, firstred, green, neighborhood_size, threshold, edgecut, check_green, min_distance):\n",
    "    #getting molecule positions map frame by frame\n",
    "    maxima = []\n",
    "    maximamap = np.zeros((560,512,512)) #local brightest pixel map for each frames\n",
    "    for i in range(data.shape[0]):\n",
    "        data_max = filters.maximum_filter(data[i,:,:], neighborhood_size) #local maximum filter\n",
    "        maxima = (data[i,:,:] == data_max) #extract local brightest pixels w/ True to be the local brightest pixel\n",
    "        data_min = filters.minimum_filter(data[i,:,:], neighborhood_size) #local minimum filter\n",
    "        diff = ((data_max - data_min) > threshold) #extract pixels w/ intensity above threshold\n",
    "        maxima[diff == 0] = 0\n",
    "        maximamap[i,:,:] = maxima\n",
    "    first_acceptormap = maximamap[0:firstred,:,256:512]\n",
    "    fret_donormap = maximamap[firstred:green+firstred,:,0:256]\n",
    "    fret_acceptormap = maximamap[firstred:green+firstred,:,256:512] #split D/A sides to make D/A map \n",
    "    \n",
    "    #cut the edge by \"edgecut\" pixels and match D/A channel\n",
    "    fret_molecules_cut = ((fret_acceptormap[0:check_green,edgecut:(fret_acceptormap.shape[1]-edgecut),edgecut:(fret_acceptormap.shape[2]-edgecut)] == 1)\\\n",
    "                          & \\\n",
    "                         (fret_acceptormap[0:check_green,edgecut:(fret_acceptormap.shape[1]-edgecut),edgecut:(fret_acceptormap.shape[2]-edgecut)] == \\\n",
    "                         fret_donormap[0:check_green,(edgecut-offsety):(fret_donormap.shape[1]-edgecut-offsety),(edgecut-offsetx):(fret_donormap.shape[2]-edgecut-offsetx)]))\n",
    "    fret_molecules = np.zeros((check_green,512,256)) #detected matching molecules map for each frame\n",
    "    fret_molecules[:,edgecut:(512-edgecut),edgecut:(256-edgecut)] = fret_molecules_cut\n",
    "    fret_molecules_map = (np.mean(fret_molecules, axis=0)!=0) #with value not equal to zero means at least match in one frame, cords are in A channel \n",
    "    \n",
    "    #exclude aggregations\n",
    "    molecule_coords = np.argwhere(fret_molecules_map == 1) #extract matching molecules coords\n",
    "    y_coord=molecule_coords[:,0] \n",
    "    x_coord=molecule_coords[:,1] \n",
    "    xx=np.tile(x_coord,(len(x_coord),1)) #duplicate x coords by molecule number of rows\n",
    "    yy=np.tile(y_coord,(len(y_coord),1)) #duplicate y coords by molecule number of rows\n",
    "    xx_t=np.transpose(xx) #duplicate x coords by the molecule number of columns\n",
    "    yy_t=np.transpose(yy) #duplicate y coords by the molecule number of columns\n",
    "    distance=(yy-yy_t)**2+(xx-xx_t)**2 #distance^2 array, symmetric, diagnal elements are 0\n",
    "    overlap=np.argwhere((distance<min_distance**2) & (distance>0)).flatten() #compare with min_distance^2, smaller means aggregation; get aggregation column/row indices \n",
    "    overlap_n=np.array(list(set(overlap))) #finalize the aggregation molecules column/row indices(numbers)\n",
    "    final_coords=np.delete(molecule_coords,overlap_n,0) #delete aggregation molecules \n",
    "    final_molecules_map = np.zeros((512,256)) #final map with aggregation removing\n",
    "    final_molecules_map[final_coords[:,0],final_coords[:,1]] = 1\n",
    "    \n",
    "    \n",
    "    return [print('found this many molecules:' + str(final_coords.shape[0])), final_molecules_map]\n",
    "    "
   ]
  },
  {
   "cell_type": "code",
   "execution_count": null,
   "id": "divine-marine",
   "metadata": {},
   "outputs": [],
   "source": []
  }
 ],
 "metadata": {
  "kernelspec": {
   "display_name": "Python 3",
   "language": "python",
   "name": "python3"
  },
  "language_info": {
   "codemirror_mode": {
    "name": "ipython",
    "version": 3
   },
   "file_extension": ".py",
   "mimetype": "text/x-python",
   "name": "python",
   "nbconvert_exporter": "python",
   "pygments_lexer": "ipython3",
   "version": "3.6.10"
  }
 },
 "nbformat": 4,
 "nbformat_minor": 5
}
