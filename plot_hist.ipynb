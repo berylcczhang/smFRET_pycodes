{
 "cells": [
  {
   "cell_type": "code",
   "execution_count": 2,
   "id": "stopped-spare",
   "metadata": {},
   "outputs": [],
   "source": [
    "import numpy as np\n",
    "import matplotlib.pyplot as plt\n",
    "import os"
   ]
  },
  {
   "cell_type": "code",
   "execution_count": 3,
   "id": "pending-listening",
   "metadata": {},
   "outputs": [],
   "source": [
    "path = '.'  \n",
    "pwE_data = np.zeros(1)\n",
    "pwE_file = [f for f in os.listdir(path) if f.endswith('pwE.dat')]\n",
    "for files in pwE_file:\n",
    "    directory = path + '/' + files\n",
    "    data = np.loadtxt(directory)\n",
    "    pwE_data = np.hstack((pwE_data,data))"
   ]
  },
  {
   "cell_type": "code",
   "execution_count": 4,
   "id": "unlike-declaration",
   "metadata": {},
   "outputs": [
    {
     "data": {
      "text/plain": [
       "(6119,)"
      ]
     },
     "execution_count": 4,
     "metadata": {},
     "output_type": "execute_result"
    }
   ],
   "source": [
    "pwE_data.shape"
   ]
  },
  {
   "cell_type": "code",
   "execution_count": 8,
   "id": "amber-rhythm",
   "metadata": {},
   "outputs": [
    {
     "data": {
      "image/png": "[encoded data removed]",
      "text/plain": [
       "<Figure size 720x504 with 1 Axes>"
      ]
     },
     "metadata": {
      "needs_background": "light"
     },
     "output_type": "display_data"
    }
   ],
   "source": [
    "plt.figure(figsize=(10,7))\n",
    "plt.hist(pwE_data, bins=100, weights=np.ones(len(pwE_data))/len(pwE_data) , color='#56B4E9', edgecolor='k');\n",
    "plt.xlabel('$E_{fret}$' ,  fontsize=18);\n",
    "plt.ylabel('Probability' , fontsize=18);\n",
    "plt.savefig('histogram.pdf')"
   ]
  },
  {
   "cell_type": "code",
   "execution_count": null,
   "id": "administrative-acceptance",
   "metadata": {},
   "outputs": [],
   "source": []
  }
 ],
 "metadata": {
  "kernelspec": {
   "display_name": "Python 3",
   "language": "python",
   "name": "python3"
  },
  "language_info": {
   "codemirror_mode": {
    "name": "ipython",
    "version": 3
   },
   "file_extension": ".py",
   "mimetype": "text/x-python",
   "name": "python",
   "nbconvert_exporter": "python",
   "pygments_lexer": "ipython3",
   "version": "3.6.10"
  }
 },
 "nbformat": 4,
 "nbformat_minor": 5
}
