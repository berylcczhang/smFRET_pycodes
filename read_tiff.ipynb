{
 "cells": [
  {
   "cell_type": "code",
   "execution_count": 3,
   "id": "romantic-portrait",
   "metadata": {},
   "outputs": [],
   "source": [
    "from PIL import Image\n",
    "import numpy as np\n",
    "import scipy\n",
    "import scipy.ndimage as ndimage\n",
    "import scipy.ndimage.filters as filters\n",
    "import matplotlib.pyplot as plt"
   ]
  },
  {
   "cell_type": "code",
   "execution_count": 4,
   "id": "burning-crazy",
   "metadata": {},
   "outputs": [],
   "source": [
    "def read_tiff(path):\n",
    "    img = Image.open(path)\n",
    "    images = []\n",
    "    for i in range(img.n_frames):\n",
    "        img.seek(i)\n",
    "        images.append(np.array(img))\n",
    "        data = np.array(images)\n",
    "    return data"
   ]
  },
  {
   "cell_type": "code",
   "execution_count": 6,
   "id": "robust-theory",
   "metadata": {},
   "outputs": [],
   "source": [
    "data = read_tiff('PSD78/encapPSD78lp104.tif')"
   ]
  },
  {
   "cell_type": "code",
   "execution_count": 7,
   "id": "enabling-saying",
   "metadata": {},
   "outputs": [
    {
     "data": {
      "text/plain": [
       "(560, 512, 512)"
      ]
     },
     "execution_count": 7,
     "metadata": {},
     "output_type": "execute_result"
    }
   ],
   "source": [
    "data.shape"
   ]
  },
  {
   "cell_type": "code",
   "execution_count": null,
   "id": "lonely-animation",
   "metadata": {},
   "outputs": [],
   "source": [
    "#splitting data in D/A channels\n",
    "    first_acceptor = data[0:firstred,:,256:512]\n",
    "    first_donor= data[0:firstred,:,0:256]\n",
    "    fret_donor = data[firstred:green+firstred,:,0:256]\n",
    "    fret_acceptor = data[firstred:green+firstred,:,256:512] "
   ]
  }
 ],
 "metadata": {
  "kernelspec": {
   "display_name": "Python 3",
   "language": "python",
   "name": "python3"
  },
  "language_info": {
   "codemirror_mode": {
    "name": "ipython",
    "version": 3
   },
   "file_extension": ".py",
   "mimetype": "text/x-python",
   "name": "python",
   "nbconvert_exporter": "python",
   "pygments_lexer": "ipython3",
   "version": "3.6.10"
  }
 },
 "nbformat": 4,
 "nbformat_minor": 5
}
