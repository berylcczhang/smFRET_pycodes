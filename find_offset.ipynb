{
 "cells": [
  {
   "cell_type": "code",
   "execution_count": 1,
   "id": "restricted-stylus",
   "metadata": {},
   "outputs": [],
   "source": [
    "from PIL import Image\n",
    "import numpy as np\n",
    "import scipy\n",
    "import scipy.ndimage as ndimage\n",
    "import scipy.ndimage.filters as filters\n",
    "import matplotlib.pyplot as plt\n",
    "from normxcorr2 import normxcorr2"
   ]
  },
  {
   "cell_type": "code",
   "execution_count": 2,
   "id": "checked-attendance",
   "metadata": {},
   "outputs": [],
   "source": [
    "#define find offset function for beads file\n",
    "def find_offset(path):\n",
    "    img = Image.open(path)\n",
    "    images = []\n",
    "    for i in range(img.n_frames):\n",
    "        img.seek(i)\n",
    "        images.append(np.array(img))\n",
    "        beads = np.array(images)\n",
    "    beadsavg=np.mean(beads, axis=0)\n",
    "    #initialize offsets; cut the edge for donor(20) and acceptor(10) channels\n",
    "    offsetx = 0\n",
    "    offsety = 0\n",
    "    donor = beadsavg[(20+offsety):int(beadsavg.shape[0]-20+offsety),(20+offsetx):int(beadsavg.shape[1]/2-20+offsetx)]\n",
    "    acceptor = beadsavg[10:int(beadsavg.shape[0]-10),int(beadsavg.shape[1]/2+10):int(beadsavg.shape[1]-10)]\n",
    "    #find cross correlation array, size should be D+A-1\n",
    "    cc = normxcorr2(donor,acceptor)\n",
    "    #output the offset values, since we expect donor locate in tbe middle of acceptor, so -10; +1 since python starts at 0\n",
    "    offsetx = np.where(cc==np.max(cc))[1][0]-donor.shape[1]-10+1\n",
    "    offsety = np.where(cc==np.max(cc))[0][0]-donor.shape[0]-10+1\n",
    "    return print('x offset = '+str(offsetx)+' and y offset = '+str(offsety))"
   ]
  },
  {
   "cell_type": "code",
   "execution_count": 3,
   "id": "impossible-miracle",
   "metadata": {},
   "outputs": [
    {
     "name": "stdout",
     "output_type": "stream",
     "text": [
      "x offset = -1 and y offset = 0\n"
     ]
    }
   ],
   "source": [
    "find_offset('green beads.tif')"
   ]
  },
  {
   "cell_type": "code",
   "execution_count": null,
   "id": "tender-kinase",
   "metadata": {},
   "outputs": [],
   "source": []
  }
 ],
 "metadata": {
  "kernelspec": {
   "display_name": "Python 3",
   "language": "python",
   "name": "python3"
  },
  "language_info": {
   "codemirror_mode": {
    "name": "ipython",
    "version": 3
   },
   "file_extension": ".py",
   "mimetype": "text/x-python",
   "name": "python",
   "nbconvert_exporter": "python",
   "pygments_lexer": "ipython3",
   "version": "3.6.10"
  }
 },
 "nbformat": 4,
 "nbformat_minor": 5
}
