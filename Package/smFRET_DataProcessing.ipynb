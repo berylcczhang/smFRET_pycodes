{
 "cells": [
  {
   "cell_type": "code",
   "execution_count": 1,
   "id": "53dee10b",
   "metadata": {},
   "outputs": [],
   "source": [
    "import smFRET_functions as smfret\n",
    "import smFRETdata_functions as smfretd"
   ]
  },
  {
   "cell_type": "markdown",
   "id": "a1f77ed5",
   "metadata": {},
   "source": [
    "##### Pre-Processing the data"
   ]
  },
  {
   "cell_type": "code",
   "execution_count": null,
   "id": "a29a3c75",
   "metadata": {},
   "outputs": [],
   "source": [
    "# find offsets with beads file: enter beads file's PATH, w.r.t current directory\n",
    "smfret.find_offset('Toxin/210608/beads_210608.tif')"
   ]
  },
  {
   "cell_type": "code",
   "execution_count": null,
   "id": "df40e86e",
   "metadata": {},
   "outputs": [],
   "source": [
    "# read in the data file: enter data file's PATH, w.r.t current directory\n",
    "data = smfret.read_tiff('Toxin/210608/Ch2_TcDA_SC_pH7_lp10_210608/Ch2_TcDA_SC_pH7_lp10_210608.tif')"
   ]
  },
  {
   "cell_type": "code",
   "execution_count": null,
   "id": "5426be73",
   "metadata": {},
   "outputs": [],
   "source": [
    "# apply bg. subtraction: enter frame sequece first red, green, and raw data from last step\n",
    "data = smfret.bg_subtraction(10, 500, data)"
   ]
  },
  {
   "cell_type": "code",
   "execution_count": null,
   "id": "f344b285",
   "metadata": {},
   "outputs": [],
   "source": [
    "# extract molecules from first red frames: enter neighborhood_size, threshold and minimun distance, also data from bg_subtraction\n",
    "final_coords = smfret.locate_molecules(5,100,5,data)[1]"
   ]
  },
  {
   "cell_type": "code",
   "execution_count": null,
   "id": "33817c0a",
   "metadata": {
    "scrolled": true
   },
   "outputs": [],
   "source": [
    "# get good molecules by the coeff. threoshold and manual selection: enter x & y offsets 'final_coords' and data from bg_subtraction\n",
    "traces_s = smfret.get_goodones(0, 0, final_coords, data)"
   ]
  },
  {
   "cell_type": "code",
   "execution_count": null,
   "id": "32b89874",
   "metadata": {},
   "outputs": [],
   "source": [
    "# save selected traces to a specific path\n",
    "np.savetxt('PATH to the data files/ProteinName_tracesNo_good.dat', traces_s, fmt='%8.1f')"
   ]
  },
  {
   "cell_type": "markdown",
   "id": "42326ae3",
   "metadata": {},
   "source": [
    "##### Pruning Traces (still needs to write in funcitons)"
   ]
  },
  {
   "cell_type": "code",
   "execution_count": null,
   "id": "e73c8930",
   "metadata": {},
   "outputs": [],
   "source": [
    "# stack all the good.dat files data: enter the PATH where you saved the good.dat files, w.r.t current directory\n",
    "stacked = smfretd.stacking('Toxin/210608/ch2_TcDA_SC_pH7_lp10_210608')"
   ]
  },
  {
   "cell_type": "code",
   "execution_count": null,
   "id": "69096f7a",
   "metadata": {},
   "outputs": [],
   "source": [
    "# prune stacked traces data, need manually insert A bleaching frame\n",
    "import matplotlib.pyplot as plt\n",
    "data = stacked\n",
    "x = np.linspace(11,data.shape[0],data.shape[0]-10)\n",
    "loop = int(data.shape[1]/2)\n",
    "pw_fret = []\n",
    "pruned_traces = []\n",
    "\n",
    "for i in range(loop):\n",
    "    A = data[:,2*i+1]\n",
    "    D = data[:,2*i]\n",
    "    \n",
    "    fig = plt.figure(figsize=(25,6))\n",
    "    ax1 = fig.add_subplot(211)\n",
    "    ax1.set_xlim(10,560)\n",
    "    ax1.set_xlabel('number of frames')\n",
    "    ax1.set_ylabel('D/A intensity')\n",
    "    ax1.set_xticks(np.arange(10, x.shape[0]+1, 20));\n",
    "    ax2 = fig.add_subplot(212)\n",
    "    ax2.set_xlim(10,560)\n",
    "    ax2.set_xlabel('number of frames')\n",
    "    ax2.set_ylim(-0.1,1)\n",
    "    ax2.set_ylabel('$E_{fret}$')\n",
    "    ax2.set_xticks(np.arange(10, x.shape[0]+1, 20));\n",
    "    fig.suptitle('Trace '+str(i+1)+'/'+str(loop), fontsize=10)\n",
    "    plt.tight_layout()\n",
    "\n",
    "    ax1.plot(x, A[10:],'r',linewidth=1)\n",
    "    ax1.plot(x, D[10:],'b',linewidth=1)\n",
    "    E_fret = A/(A+D)\n",
    "    ax2.plot(x,E_fret[10:],'k', linewidth=1)\n",
    "    plt.show()\n",
    "\n",
    "    framenumber = int(input(\"At which frame the acceptor is bleached?\"))\n",
    "    pw_fret.append(E_fret[10:framenumber])\n",
    "    pruned_traces.append(D[10:framenumber])\n",
    "    pruned_traces.append(A[10:framenumber]) "
   ]
  },
  {
   "cell_type": "code",
   "execution_count": null,
   "id": "316accbc",
   "metadata": {},
   "outputs": [],
   "source": [
    "# output .dat that is cmpatible with ebFRET for future analysis\n",
    "pw_fret_all = np.concatenate(pw_fret)\n",
    "\n",
    "traces_p = []\n",
    "for i in range(int(len(pruned_traces)/2)):\n",
    "    frame_len = len(pruned_traces[2*i])\n",
    "    intensity = np.array([np.ones(frame_len)*(i+1),pruned_traces[2*i],pruned_traces[2*i+1]])\n",
    "    intensity = intensity.transpose()\n",
    "    traces_p.append(intensity)\n",
    "traces_p = np.concatenate(traces_p)\n",
    "np.savetxt('PATH to the data files/pwE_all.dat', pw_fret_all, fmt='%7.5f')\n",
    "np.savetxt('PATH to the data files/pruned_all.dat', traces_p, fmt='%8.1f')"
   ]
  },
  {
   "cell_type": "code",
   "execution_count": 5,
   "id": "facea059",
   "metadata": {},
   "outputs": [
    {
     "data": {
      "image/png": "[encoded data removed]",
      "text/plain": [
       "<Figure size 720x504 with 1 Axes>"
      ]
     },
     "metadata": {
      "needs_background": "light"
     },
     "output_type": "display_data"
    }
   ],
   "source": [
    "# plot histogram for all point-wise FRET efficiency: enter titlename\n",
    "smfretd.plot_hist(pw_fret_all, 'TcdA PH7 lp10')"
   ]
  },
  {
   "cell_type": "code",
   "execution_count": null,
   "id": "39487d06",
   "metadata": {},
   "outputs": [],
   "source": []
  }
 ],
 "metadata": {
  "kernelspec": {
   "display_name": "Python 3",
   "language": "python",
   "name": "python3"
  },
  "language_info": {
   "codemirror_mode": {
    "name": "ipython",
    "version": 3
   },
   "file_extension": ".py",
   "mimetype": "text/x-python",
   "name": "python",
   "nbconvert_exporter": "python",
   "pygments_lexer": "ipython3",
   "version": "3.8.8"
  }
 },
 "nbformat": 4,
 "nbformat_minor": 5
}
